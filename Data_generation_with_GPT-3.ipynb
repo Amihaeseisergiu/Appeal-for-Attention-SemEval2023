{
  "nbformat": 4,
  "nbformat_minor": 0,
  "metadata": {
    "colab": {
      "provenance": []
    },
    "kernelspec": {
      "name": "python3",
      "display_name": "Python 3"
    },
    "language_info": {
      "name": "python"
    }
  },
  "cells": [
    {
      "cell_type": "code",
      "source": [
        "from google.colab import drive\n",
        "drive.mount('/content/drive', force_remount=True)"
      ],
      "metadata": {
        "colab": {
          "base_uri": "https://localhost:8080/"
        },
        "id": "jLJV1ZIJHPyA",
        "outputId": "6cfc0abc-480d-4afb-fa65-460d6048b6cb"
      },
      "execution_count": null,
      "outputs": [
        {
          "output_type": "stream",
          "name": "stdout",
          "text": [
            "Mounted at /content/drive\n"
          ]
        }
      ]
    },
    {
      "cell_type": "code",
      "execution_count": null,
      "metadata": {
        "colab": {
          "base_uri": "https://localhost:8080/"
        },
        "id": "EtHrxSIGE-xX",
        "outputId": "8f0f339c-3758-4985-c9e8-92280dd95521"
      },
      "outputs": [
        {
          "output_type": "stream",
          "name": "stdout",
          "text": [
            "Looking in indexes: https://pypi.org/simple, https://us-python.pkg.dev/colab-wheels/public/simple/\n",
            "Collecting openai\n",
            "  Downloading openai-0.26.1.tar.gz (55 kB)\n",
            "\u001b[2K     \u001b[90m━━━━━━━━━━━━━━━━━━━━━━━━━━━━━━━━━━━━━━━━\u001b[0m \u001b[32m55.3/55.3 KB\u001b[0m \u001b[31m6.2 MB/s\u001b[0m eta \u001b[36m0:00:00\u001b[0m\n",
            "\u001b[?25h  Installing build dependencies ... \u001b[?25l\u001b[?25hdone\n",
            "  Getting requirements to build wheel ... \u001b[?25l\u001b[?25hdone\n",
            "  Preparing metadata (pyproject.toml) ... \u001b[?25l\u001b[?25hdone\n",
            "Requirement already satisfied: aiohttp in /usr/local/lib/python3.8/dist-packages (from openai) (3.8.3)\n",
            "Requirement already satisfied: requests>=2.20 in /usr/local/lib/python3.8/dist-packages (from openai) (2.25.1)\n",
            "Requirement already satisfied: tqdm in /usr/local/lib/python3.8/dist-packages (from openai) (4.64.1)\n",
            "Requirement already satisfied: certifi>=2017.4.17 in /usr/local/lib/python3.8/dist-packages (from requests>=2.20->openai) (2022.12.7)\n",
            "Requirement already satisfied: chardet<5,>=3.0.2 in /usr/local/lib/python3.8/dist-packages (from requests>=2.20->openai) (4.0.0)\n",
            "Requirement already satisfied: urllib3<1.27,>=1.21.1 in /usr/local/lib/python3.8/dist-packages (from requests>=2.20->openai) (1.24.3)\n",
            "Requirement already satisfied: idna<3,>=2.5 in /usr/local/lib/python3.8/dist-packages (from requests>=2.20->openai) (2.10)\n",
            "Requirement already satisfied: multidict<7.0,>=4.5 in /usr/local/lib/python3.8/dist-packages (from aiohttp->openai) (6.0.4)\n",
            "Requirement already satisfied: aiosignal>=1.1.2 in /usr/local/lib/python3.8/dist-packages (from aiohttp->openai) (1.3.1)\n",
            "Requirement already satisfied: async-timeout<5.0,>=4.0.0a3 in /usr/local/lib/python3.8/dist-packages (from aiohttp->openai) (4.0.2)\n",
            "Requirement already satisfied: attrs>=17.3.0 in /usr/local/lib/python3.8/dist-packages (from aiohttp->openai) (22.2.0)\n",
            "Requirement already satisfied: charset-normalizer<3.0,>=2.0 in /usr/local/lib/python3.8/dist-packages (from aiohttp->openai) (2.1.1)\n",
            "Requirement already satisfied: yarl<2.0,>=1.0 in /usr/local/lib/python3.8/dist-packages (from aiohttp->openai) (1.8.2)\n",
            "Requirement already satisfied: frozenlist>=1.1.1 in /usr/local/lib/python3.8/dist-packages (from aiohttp->openai) (1.3.3)\n",
            "Building wheels for collected packages: openai\n",
            "  Building wheel for openai (pyproject.toml) ... \u001b[?25l\u001b[?25hdone\n",
            "  Created wheel for openai: filename=openai-0.26.1-py3-none-any.whl size=67316 sha256=cc43e0ccacc7348a6c44b693209caed3578905f0b3eb8e271be142abc1702e32\n",
            "  Stored in directory: /root/.cache/pip/wheels/2f/9c/55/95d3609ccfc463eeffb96d50c756f1f1899453b85e92021a0a\n",
            "Successfully built openai\n",
            "Installing collected packages: openai\n",
            "Successfully installed openai-0.26.1\n",
            "Looking in indexes: https://pypi.org/simple, https://us-python.pkg.dev/colab-wheels/public/simple/\n",
            "Collecting deep-translator\n",
            "  Downloading deep_translator-1.9.2-py3-none-any.whl (30 kB)\n",
            "Collecting beautifulsoup4<5.0.0,>=4.9.1\n",
            "  Downloading beautifulsoup4-4.11.1-py3-none-any.whl (128 kB)\n",
            "\u001b[2K     \u001b[90m━━━━━━━━━━━━━━━━━━━━━━━━━━━━━━━━━━━━━━\u001b[0m \u001b[32m128.2/128.2 KB\u001b[0m \u001b[31m17.7 MB/s\u001b[0m eta \u001b[36m0:00:00\u001b[0m\n",
            "\u001b[?25hRequirement already satisfied: requests<3.0.0,>=2.23.0 in /usr/local/lib/python3.8/dist-packages (from deep-translator) (2.25.1)\n",
            "Collecting soupsieve>1.2\n",
            "  Downloading soupsieve-2.3.2.post1-py3-none-any.whl (37 kB)\n",
            "Requirement already satisfied: idna<3,>=2.5 in /usr/local/lib/python3.8/dist-packages (from requests<3.0.0,>=2.23.0->deep-translator) (2.10)\n",
            "Requirement already satisfied: chardet<5,>=3.0.2 in /usr/local/lib/python3.8/dist-packages (from requests<3.0.0,>=2.23.0->deep-translator) (4.0.0)\n",
            "Requirement already satisfied: certifi>=2017.4.17 in /usr/local/lib/python3.8/dist-packages (from requests<3.0.0,>=2.23.0->deep-translator) (2022.12.7)\n",
            "Requirement already satisfied: urllib3<1.27,>=1.21.1 in /usr/local/lib/python3.8/dist-packages (from requests<3.0.0,>=2.23.0->deep-translator) (1.24.3)\n",
            "Installing collected packages: soupsieve, beautifulsoup4, deep-translator\n",
            "  Attempting uninstall: beautifulsoup4\n",
            "    Found existing installation: beautifulsoup4 4.6.3\n",
            "    Uninstalling beautifulsoup4-4.6.3:\n",
            "      Successfully uninstalled beautifulsoup4-4.6.3\n",
            "Successfully installed beautifulsoup4-4.11.1 deep-translator-1.9.2 soupsieve-2.3.2.post1\n"
          ]
        }
      ],
      "source": [
        "!pip install openai\n",
        "!pip install deep-translator"
      ]
    },
    {
      "cell_type": "code",
      "source": [
        "import os\n",
        "import openai\n",
        "import numpy as np\n",
        "import pandas as pd\n",
        "import glob\n",
        "from deep_translator import GoogleTranslator\n",
        "openai.api_key = 'api_key'\n",
        "\n",
        "all_labels = [\n",
        "    'Appeal_to_Authority',\n",
        "    'Appeal_to_Popularity',\n",
        "    'Appeal_to_Values',\n",
        "    'Appeal_to_Fear-Prejudice',\n",
        "    'Flag_Waving',\n",
        "    'Causal_Oversimplification',\n",
        "    'False_Dilemma-No_Choice',\n",
        "    'Consequential_Oversimplification',\n",
        "    'Straw_Man',\n",
        "    'Red_Herring',\n",
        "    'Whataboutism',\n",
        "    'Slogans',\n",
        "    'Appeal_to_Time',\n",
        "    'Conversation_Killer',\n",
        "    'Loaded_Language',\n",
        "    'Repetition',\n",
        "    'Exaggeration-Minimisation',\n",
        "    'Obfuscation-Vagueness-Confusion',\n",
        "    'Name_Calling-Labeling',\n",
        "    'Doubt',\n",
        "    'Guilt_by_Association',\n",
        "    'Appeal_to_Hypocrisy',\n",
        "    'Questioning_the_Reputation',\n",
        "]\n",
        "\n",
        "map_lang_data_trans = {\n",
        "  'en': 'en',\n",
        "  'fr': 'fr',\n",
        "  'ge': 'de',\n",
        "  'it': 'it',\n",
        "  'po': 'pl',\n",
        "  'ru': 'ru'\n",
        "}\n",
        "\n",
        "map_lang_data_text = {\n",
        "  'en': 'English',\n",
        "  'fr': 'French',\n",
        "  'ge': 'German',\n",
        "  'it': 'Italian',\n",
        "  'po': 'Polish',\n",
        "  'ru': 'Russian'\n",
        "}"
      ],
      "metadata": {
        "id": "cZ69Fxm-FrTf"
      },
      "execution_count": null,
      "outputs": []
    },
    {
      "cell_type": "code",
      "source": [
        "def get_all_languages():\n",
        "    return [x for x in os.listdir('./drive/MyDrive/Facultate/MasterAnul2/NLP/data/')]\n",
        "\n",
        "def translate(src_lang, dest_lang, text):\n",
        "   translated_text = GoogleTranslator(source=map_lang_data_trans[src_lang], target=map_lang_data_trans[dest_lang]).translate(text)\n",
        "   return translated_text\n",
        "\n",
        "\n",
        "def valid_text(text, labels, lang):\n",
        "     text = text.lower().split()\n",
        "     labels = labels.lower()\n",
        "     print('text', text)\n",
        "     print('labels', labels)\n",
        "\n",
        "     special_word = translate('en', lang, 'persuasion')\n",
        "     if special_word in text:\n",
        "       return False\n",
        "\n",
        "    \n",
        "     special_word = translate('en', lang, 'technique')\n",
        "     if special_word in text:\n",
        "       return False\n",
        "\n",
        "     special_word = translate('en', lang, 'techniques')\n",
        "     if special_word in text:\n",
        "       return False\n",
        "   \n",
        "     for l in labels.split(','):\n",
        "        for label in l.replace('_', ' ').replace('-', ' ').split():\n",
        "            if len(label) >= 5:\n",
        "                translated_label = translate('en', lang, label)\n",
        "                if (translated_label in text) or (label in text):\n",
        "                  return False\n",
        "    \n",
        "     return True\n",
        "\n",
        "\n",
        "def chatgpt_to_file(path, n_responses, lang):\n",
        "  # 0.9 / 17 for under-represented labels, 0.10 / 6 for over-represented ones\n",
        "  probabilities = [0.05294117647 for _ in range(len(all_labels))]\n",
        "  probabilities[3] = 0.01666666666 # Appeal_to_Fear-Prejudice\n",
        "  probabilities[14] = 0.01666666666 # Loaded_Language\n",
        "  probabilities[16] = 0.01666666666 # Exaggeration-Minimisation\n",
        "  probabilities[18] = 0.01666666666 # Name_Calling-Labeling\n",
        "  probabilities[19] = 0.01666666666 # Doubt\n",
        "  probabilities[22] = 0.01666666666 # Questioning_the_Reputation\n",
        "\n",
        "  with open(path, 'a') as f:\n",
        "      for _ in range(n_responses):\n",
        "        n_labels = np.random.randint(low=1, high=(len(all_labels) // 5))\n",
        "        random_labels = []\n",
        "        original_labels = []\n",
        "\n",
        "        for _ in range(n_labels):\n",
        "          random_label = np.random.choice(all_labels, p=probabilities)\n",
        "          if random_label not in original_labels: \n",
        "            original_labels.append(random_label)\n",
        "\n",
        "            random_label = random_label.replace('_', ' ').replace('-', '/').lower()\n",
        "            random_labels.append(random_label)\n",
        "\n",
        "        original_labels = ','.join(original_labels)\n",
        "\n",
        "        prompt_labels = ', '.join(random_labels)\n",
        "        prompt = f\"Generate a paragraph containing {prompt_labels} as persuasion techniques in {map_lang_data_text[lang]}\" \n",
        "    \n",
        "\n",
        "        response = openai.Completion.create(\n",
        "          model=\"text-davinci-003\",\n",
        "          prompt=prompt,\n",
        "          max_tokens=550,\n",
        "          temperature=0.9\n",
        "        )\n",
        "\n",
        "        for choice in response['choices']:\n",
        "            text = choice['text'].replace('\\n', ' ')\n",
        "            if valid_text(text, original_labels, lang):\n",
        "              f.write(f\"{text}\\t{original_labels}\\n\")"
      ],
      "metadata": {
        "id": "3ybW8QgkFGm8"
      },
      "execution_count": null,
      "outputs": []
    },
    {
      "cell_type": "code",
      "source": [
        "for lang in get_all_languages():\n",
        "  for i in range(1, 11):\n",
        "      chatgpt_to_file(f\"./drive/MyDrive/Facultate/MasterAnul2/NLP/chatgpt_data/{lang}/laura_chatgpt\"+ str(i)+ \".txt\", 500, lang) "
      ],
      "metadata": {
        "id": "oxyseS_yGdNu"
      },
      "execution_count": null,
      "outputs": []
    }
  ]
}